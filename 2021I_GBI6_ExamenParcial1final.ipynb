{
 "cells": [
  {
   "cell_type": "markdown",
   "metadata": {},
   "source": [
    "<img src=\"https://www.ikiam.edu.ec/img/logo-ikiam-grey.png\" width=300 height=240 />\n",
    "\n",
    "# EXAMEN PARCIAL 1\n",
    "\n",
    "## GBI6-2021II: BIOINFORMÁTICA\n",
    "\n",
    "**OÑA QUILLUPANGUI ANGEL ANDRES** \n",
    "\n",
    "**11-01-2021**"
   ]
  },
  {
   "cell_type": "markdown",
   "metadata": {},
   "source": [
    "<font color='red'>NO AGREGUE NUEVAS CELDAS, UTILICE ÚNICAMENTE LAS QUE ESTÁN CREADAS</font>"
   ]
  },
  {
   "cell_type": "markdown",
   "metadata": {},
   "source": [
    "# 1. UNIX\n",
    "\n",
    "## Ejercicio 1\n",
    "1. Imprimir el directorio de trabajo actual \n",
    "2. Crear un directorio test1\n",
    "3. No cambie de directorio, pero los items 4, 5 y 6 deben guardarse en el directorio creado en el paso 2. \n",
    "4. Crear el archivo test1.txt\n",
    "5. Guardar el texto Hola GBI6 en un archivo test2.txt\n",
    "6. Guardar la instrucción print(\"Hola GBI6\")  en el archivo test1.py\n",
    "7. Coloque aquí la captura de pantalla del ejercicio 1 (borre esta línea cuando finalice)\n",
    "**Luego seleccione la instrucción que enlista los archivos del directorio test1 y luego borra test1.py del directorio test1**\n",
    "\n",
    "<img src=\"data/ejercicio1.jpg\" width=600 height=450 />\n",
    "\n",
    "En el ejercicio no se especifica si se necesita enlistar con detalles o no es por que eso que solo ocupamos ls, aunque se podria enlistar con ls -l y ls -lh \n",
    "\n",
    "## Ejercicio 2\n",
    "1. Imprimir el directorio de trabajo actual \n",
    "2. Crear un directorio test1\n",
    "3. No cambie de directorio, pero los items 4, 5 y 6 deben guardarse en el directorio creado en el paso 2. \n",
    "4. Crear el archivo test1.txt\n",
    "5. Guardar el texto Hola GBI6 en un archivo test2.txt\n",
    "6. Guardar la instrucción print(\"Hola GBI6\")  en el archivo test1.py\n",
    "7. Coloque aquí la captura de pantalla del ejercicio 1 (borre esta línea cuando finalice)\n",
    "**Luego seleccione la instrucción que permite enlistar el contenido (sin detalles) del directorio test1**\n",
    "\n",
    "<img src=\"data/ejercicio2.jpg\" width=600 height=450 />\n",
    "\n",
    "Aqui nos indica ya que tenemos que enlistar sin detalles es por que se utiliza un ls obligatoriamente el ls test1 no funciona es por eso que nos retrosedemos para tomar toda la carperta test1 y que se pueda enlistar todos los archivos \n",
    "\n",
    "## Ejercicio 3\n",
    "1. Imprimir el directorio de trabajo actual \n",
    "2. Crear un directorio test1\n",
    "3. No cambie de directorio, pero los items 4, 5 y 6 deben guardarse en el directorio creado en el paso 2. \n",
    "4. Crear el archivo test1.txt\n",
    "5. Guardar el texto Hola GBI6 en un archivo test2.txt\n",
    "6. Guardar la instrucción print(\"Hola GBI6\")  en el archivo test1.py\n",
    "7. Coloque aquí la captura de pantalla del ejercicio 1 (borre esta línea cuando finalice)\n",
    "**Luego seleccione la instrucción que permite enlistar el contenido (incluyendo detalles) del directorio test1**\n",
    "\n",
    "<img src=\"data/ejercicio3.jpg\" width=600 height=450 />\n",
    "\n",
    "Aqui se especifica que enliste con detalles, pero no que tipo de detalles dando margen a utilizar un ls con varias extensiones como ls -l o ls -lh \n",
    "\n",
    "## Ejercicio 4\n",
    "**Resuelva el ejercicio 1.10.4 Data Explorer** \n",
    "\n",
    "Resuelva el ejercicio en un documento de nombre ejercicio_1104.sh\n",
    "Cargue el documento ejercicio_1104.sh en GitHub utilizando git push. \n"
   ]
  },
  {
   "cell_type": "code",
   "execution_count": 40,
   "metadata": {
    "scrolled": false
   },
   "outputs": [
    {
     "data": {
      "text/html": [
       "<iframe width=\"560\" height=\"315\" src=\"https://www.youtube.com/embed/tE8M8EG1eHM\"\" title=\"YouTube video player\" frameborder=\"0\" allow=\"accelerometer; autoplay; clipboard-write; encrypted-media; gyroscope; picture-in-picture\" allowfullscreen></iframe>"
      ],
      "text/plain": [
       "<IPython.core.display.HTML object>"
      ]
     },
     "execution_count": 40,
     "metadata": {},
     "output_type": "execute_result"
    }
   ],
   "source": [
    "# Video Ejercicio 4 \n",
    "from IPython.display import HTML\n",
    "HTML('<iframe width=\"560\" height=\"315\" src=\"https://www.youtube.com/embed/tE8M8EG1eHM\"\" title=\"YouTube video player\" frameborder=\"0\" allow=\"accelerometer; autoplay; clipboard-write; encrypted-media; gyroscope; picture-in-picture\" allowfullscreen></iframe>')"
   ]
  },
  {
   "cell_type": "markdown",
   "metadata": {},
   "source": [
    "\n",
    "\n",
    "## Ejercicio 5\n",
    "**Resuelva el ejercicio 1.10.1 Next Generation Sequencing Data**\n",
    "\n",
    "Resuelva el ejercicio en un documento de nombre ejercicio_1101.sh\n",
    "Cargue el documento ejercicio_1101.sh en GitHub utilizando git push. \n",
    "Realice el video explicativo de la resolución ejercicio y guarde en YouTube en formato \"Público\" o \"Unlisted\", y pegue el enlace en el cuaderno de Jupyter.\n"
   ]
  },
  {
   "cell_type": "code",
   "execution_count": 88,
   "metadata": {
    "scrolled": false
   },
   "outputs": [
    {
     "data": {
      "text/html": [
       "<iframe width=\"560\" height=\"315\" src=\"https://www.youtube.com/embed/FG-n0ElHkOo\"YouTube video player\" frameborder=\"0\" allow=\"accelerometer; autoplay; clipboard-write; encrypted-media; gyroscope; picture-in-picture\" allowfullscreen></iframe>"
      ],
      "text/plain": [
       "<IPython.core.display.HTML object>"
      ]
     },
     "execution_count": 88,
     "metadata": {},
     "output_type": "execute_result"
    }
   ],
   "source": [
    "# Coloque aquí su video del ejercicio 5\n",
    "from IPython.display import HTML\n",
    "HTML('<iframe width=\"560\" height=\"315\" src=\"https://www.youtube.com/embed/FG-n0ElHkOo\"YouTube video player\" frameborder=\"0\" allow=\"accelerometer; autoplay; clipboard-write; encrypted-media; gyroscope; picture-in-picture\" allowfullscreen></iframe>')\n",
    "\n",
    "\n"
   ]
  },
  {
   "cell_type": "markdown",
   "metadata": {
    "jp-MarkdownHeadingCollapsed": true,
    "tags": []
   },
   "source": [
    "Escriba aquí alguna explicación del ejercicio 5 si lo considera necesario (borre esta línea cuando finalice)\n",
    "\n",
    "# 2. CONTROL DE LA VERSIÓN\n",
    "## Pregunta 6\n",
    "1. Cree en GitHub un repositorio de nombre ```GBI6_ExamenParcial1```. \n",
    "2. Cree un archivo ```Readme.md``` que debe tener lo siguiente: \n",
    "- Datos personales\n",
    "- Características del computador\n",
    "- Programas utilizados\n",
    "- Explicación de la data utilizada\n",
    "\n",
    "\n",
    "## Pregunta 7\n",
    "1. Cada vez que resuelva un ejercicio (del 1 al 10), utilizando Git Bash, GitHub Desktop o Atom realice un *git push* con el mensaje: \n",
    "\n",
    "\n",
    "<font color='red'>Apellido Nombre ha resuelto el ejercicio 1</font> % Cambie con sus apellidos y nombres; y con el número de ejercicio que corresponda \n",
    "\n",
    "2. Coloque aquí las capturas de pantalla para cada git push realizado desde Git Bash, GitHub Desktop o Atom. \n",
    "\n",
    "- Control de versión ejercicio 1\n",
    "\n",
    "<img src=\"data/cvejercicio1.jpg\" width=600 height=450 />\n",
    "\n",
    "- Control de versión ejercicio 2\n",
    "\n",
    "<img src=\"data/cvejercicio2.jpg\" width=600 height=450 />\n",
    "\n",
    "- Control de versión ejercicio 3\n",
    "\n",
    "<img src=\"data/cvejercicio3.jpg\" width=600 height=450 />\n",
    "\n",
    "- Control de versión ejercicio 4\n",
    "\n",
    "<img src=\"data/cvejercicio4.jpg\" width=600 height=450 />\n",
    "\n",
    "- Control de versión ejercicio 5\n",
    "\n",
    "<img src=\"data/cvejercicio5.jpg\" width=600 height=450 />\n",
    "\n",
    "- Control de versión ejercicio 8\n",
    "\n",
    "<img src=\"data/ejemplo_unix.jpg\" width=600 height=450 />\n",
    "\n",
    "- Control de versión ejercicio 9\n",
    "\n",
    "<img src=\"data/ejemplo_unix.jpg\" width=600 height=450 />\n",
    "\n",
    "- Control de versión ejercicio 10\n",
    "\n",
    "<img src=\"data/ejemplo_unix.jpg\" width=600 height=450 />\n",
    "\n",
    "\n",
    "3. Cree un directorio de nombre ```data``` donde deben estar guardados: (i) la data utilizada y (ii) las capturas de pantalla de los ejercicios 1 al 3 y los git push del ejercicio 1 al 10 (en total debe tener 13 imágenes). \n",
    "4. Inserte aquí el enlace de su repositorio (válido para el ejercicio 6 y 7): [GitHub Repository: GBI6_ExamenParcial1](https://github.com/gualapuromoises/2021_gbi6.git) (este enlace es de ejemplo)"
   ]
  },
  {
   "cell_type": "markdown",
   "metadata": {},
   "source": [
    "# 3. INTRODUCCIÓN A PYTHON\n",
    "\n",
    "## Ejercicio 8\n",
    "\n",
    "Escriba aquí el enunciado"
   ]
  },
  {
   "cell_type": "code",
   "execution_count": 87,
   "metadata": {},
   "outputs": [
    {
     "name": "stdout",
     "output_type": "stream",
     "text": [
      "este es el diccionario dic_aminoacidos: \n",
      "{'Trp': [1550, 1.34], 'Cys': [1905, 1.76], 'His': [1695, 2.26], 'Arg': [3093, 5.2], 'Met': [1102, 2.32], 'Tyr': [1525, 3.25], 'Gln': [1830, 3.96], 'Phe': [1616, 4.12], 'Asp': [1691, 5.12], 'Pro': [1598, 5.0], 'Ala': [2018, 7.34], 'Asn': [1103, 4.57], 'Lys': [1366, 5.81], 'Glu': [1471, 6.22], 'Gly': [1376, 6.89], 'Thr': [1147, 5.85], 'Val': [1225, 6.48], 'Ile': [1033, 5.76], 'Ser': [1206, 7.38], 'Leu': [1127, 9.36]}\n",
      "este es la_lista_de_aminoacidos: \n",
      "['Trp', 'Cys', 'His', 'Arg', 'Met', 'Tyr', 'Gln', 'Phe', 'Asp', 'Pro', 'Ala', 'Asn', 'Lys', 'Glu', 'Gly', 'Thr', 'Val', 'Ile', 'Ser', 'Leu']\n",
      "este es el la_lista_de__propiedades: \n",
      "[[1550, 1.34], [1905, 1.76], [1695, 2.26], [3093, 5.2], [1102, 2.32], [1525, 3.25], [1830, 3.96], [1616, 4.12], [1691, 5.12], [1598, 5.0], [2018, 7.34], [1103, 4.57], [1366, 5.81], [1471, 6.22], [1376, 6.89], [1147, 5.85], [1225, 6.48], [1033, 5.76], [1206, 7.38], [1127, 9.36]]\n"
     ]
    }
   ],
   "source": [
    "# Resolucion:\n",
    "dic_aminoacidos = {\n",
    "    \"Trp\": [1550, 1.34, ],\n",
    "    \"Cys\": [1905, 1.76, ],\n",
    "    \"His\": [1695, 2.26, ],\n",
    "    \"Arg\": [3093, 5.20, ],\n",
    "    \"Met\": [1102, 2.32, ],\n",
    "    \"Tyr\": [1525, 3.25, ],\n",
    "    \"Gln\": [1830, 3.96, ],\n",
    "    \"Phe\": [1616, 4.12, ],\n",
    "    \"Asp\": [1691, 5.12, ],\n",
    "    \"Pro\": [1598, 5.00, ],\n",
    "    \"Ala\": [2018, 7.34, ],\n",
    "    \"Asn\": [1103, 4.57, ],\n",
    "    \"Lys\": [1366, 5.81, ],\n",
    "    \"Glu\": [1471, 6.22, ],\n",
    "    \"Gly\": [1376, 6.89, ],\n",
    "    \"Thr\": [1147, 5.85, ],\n",
    "    \"Val\": [1225, 6.48, ],\n",
    "    \"Ile\": [1033, 5.76, ],\n",
    "    \"Ser\": [1206, 7.38, ],\n",
    "    \"Leu\": [1127, 9.36, ],\n",
    "}\n",
    "\n",
    "print(\"este es el diccionario dic_aminoacidos: \")\n",
    "print(dic_aminoacidos) # imprime el diccionario creado\n",
    "print(\"este es la_lista_de_aminoacidos: \")\n",
    "aminoacidos = print (list(dic_aminoacidos.keys())) # se extrae los keys y se los añade a una lista de nombre aminoacidos\n",
    "print(\"este es el la_lista_de__propiedades: \")\n",
    "propiedades = print (list(dic_aminoacidos.values())) # se extrae los values y se los añade a una lista de nombre propiedades\n"
   ]
  },
  {
   "cell_type": "markdown",
   "metadata": {},
   "source": [
    "## Ejercicio 9\n",
    "Para este ejercicio tiene que crear previamente lo siguiente: \n",
    "\n",
    "**Una lista de nombre lista1 que tenga a las 10 primeras letras del alfabeto.**"
   ]
  },
  {
   "cell_type": "code",
   "execution_count": 71,
   "metadata": {
    "scrolled": true
   },
   "outputs": [
    {
     "name": "stdout",
     "output_type": "stream",
     "text": [
      "10\n",
      "ikiam\n",
      "['c', 'd', 'e']\n",
      "d\n",
      "11\n"
     ]
    }
   ],
   "source": [
    "lista1 = [\"a\", \"b\", \"c\", \"d\", \"e\", \"f\", \"g\", \"h\", \"i\", \"j\"]\n",
    "print(len(lista1)) \n",
    "# Ejecucion de comandos \n",
    "lista1.append([\"gbi6\", \"bio1\", \"ikiam\"]) \n",
    "print(lista1[-1][-1]) \n",
    "\n",
    "lista1 = [\"a\", \"b\", \"c\", \"d\", \"e\", \"f\", \"g\", \"h\", \"i\", \"j\"] \n",
    "print(lista1[2:5]) \n",
    "print(lista1[3])\n",
    "\n",
    "lista1.append([\"gbi6\", \"bio1\", \"ikiam\"]) \n",
    "print(len(lista1)) "
   ]
  },
  {
   "cell_type": "markdown",
   "metadata": {},
   "source": [
    "## Ejercicio 10\n",
    "Para este ejercicio tiene que crear previamente lo siguiente: \n",
    "\n",
    "En la data https://github.com/sap0408/mtcars/blob/master/mtcars.csv, seleccione los 10 primeros registros y cree una lista de nombre lista1.\n",
    "\n"
   ]
  },
  {
   "cell_type": "code",
   "execution_count": 67,
   "metadata": {},
   "outputs": [
    {
     "name": "stdout",
     "output_type": "stream",
     "text": [
      "gbi6\n",
      "11\n",
      "['Datsun 710', 'Hornet 4 Drive', 'Hornet Sportabout']\n",
      "Hornet Sportabout\n",
      "Hornet 4 Drive\n"
     ]
    }
   ],
   "source": [
    "lista1 = [\"Mazda RX4\", \"Mazda RX4 Wag\",\"Datsun 710\",\"Hornet 4 Drive\",\"Hornet Sportabout\",\"Valiant\",\"Duster 360\",\"Merc 240D\",\"Merc 230\"]\n",
    "lista1.append([\"gbi6\", \"bio1\", \"ikiam\"])\n",
    "print(lista1[-1][-3])\n",
    "\n",
    "lista1.append([\"gbi6\", \"bio1\", \"ikiam\"])\n",
    "print (len(lista1))\n",
    "\n",
    "print (lista1[2:5])\n",
    "\n",
    "print (lista1[4])\n",
    "\n",
    "print (lista1[3])\n"
   ]
  },
  {
   "cell_type": "code",
   "execution_count": null,
   "metadata": {},
   "outputs": [],
   "source": []
  },
  {
   "cell_type": "code",
   "execution_count": null,
   "metadata": {},
   "outputs": [],
   "source": []
  }
 ],
 "metadata": {
  "kernelspec": {
   "display_name": "Python 3",
   "language": "python",
   "name": "python3"
  },
  "language_info": {
   "codemirror_mode": {
    "name": "ipython",
    "version": 3
   },
   "file_extension": ".py",
   "mimetype": "text/x-python",
   "name": "python",
   "nbconvert_exporter": "python",
   "pygments_lexer": "ipython3",
   "version": "3.8.8"
  },
  "latex_envs": {
   "LaTeX_envs_menu_present": true,
   "autoclose": false,
   "autocomplete": true,
   "bibliofile": "biblio.bib",
   "cite_by": "apalike",
   "current_citInitial": 1,
   "eqLabelWithNumbers": true,
   "eqNumInitial": 1,
   "hotkeys": {
    "equation": "Ctrl-E",
    "itemize": "Ctrl-I"
   },
   "labels_anchors": false,
   "latex_user_defs": false,
   "report_style_numbering": false,
   "user_envs_cfg": false
  },
  "toc": {
   "base_numbering": 1,
   "nav_menu": {},
   "number_sections": true,
   "sideBar": false,
   "skip_h1_title": false,
   "title_cell": "Table of Contents",
   "title_sidebar": "Contents",
   "toc_cell": false,
   "toc_position": {
    "height": "1152.67px",
    "left": "41px",
    "top": "110px",
    "width": "253.458px"
   },
   "toc_section_display": true,
   "toc_window_display": false
  },
  "varInspector": {
   "cols": {
    "lenName": 16,
    "lenType": 16,
    "lenVar": 40
   },
   "kernels_config": {
    "python": {
     "delete_cmd_postfix": "",
     "delete_cmd_prefix": "del ",
     "library": "var_list.py",
     "varRefreshCmd": "print(var_dic_list())"
    },
    "r": {
     "delete_cmd_postfix": ") ",
     "delete_cmd_prefix": "rm(",
     "library": "var_list.r",
     "varRefreshCmd": "cat(var_dic_list()) "
    }
   },
   "types_to_exclude": [
    "module",
    "function",
    "builtin_function_or_method",
    "instance",
    "_Feature"
   ],
   "window_display": false
  }
 },
 "nbformat": 4,
 "nbformat_minor": 4
}
